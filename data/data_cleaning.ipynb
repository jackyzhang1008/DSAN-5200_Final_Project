{
 "cells": [
  {
   "cell_type": "code",
   "execution_count": 18,
   "metadata": {},
   "outputs": [],
   "source": [
    "import pandas as pd"
   ]
  },
  {
   "cell_type": "code",
   "execution_count": 26,
   "metadata": {},
   "outputs": [],
   "source": [
    "data = pd.read_csv(\"500_Cities__Current_lack_of_health_insurance_among_adults_aged_18-64_years_20240423.csv\")"
   ]
  },
  {
   "cell_type": "code",
   "execution_count": 27,
   "metadata": {},
   "outputs": [
    {
     "data": {
      "text/html": [
       "<div>\n",
       "<style scoped>\n",
       "    .dataframe tbody tr th:only-of-type {\n",
       "        vertical-align: middle;\n",
       "    }\n",
       "\n",
       "    .dataframe tbody tr th {\n",
       "        vertical-align: top;\n",
       "    }\n",
       "\n",
       "    .dataframe thead th {\n",
       "        text-align: right;\n",
       "    }\n",
       "</style>\n",
       "<table border=\"1\" class=\"dataframe\">\n",
       "  <thead>\n",
       "    <tr style=\"text-align: right;\">\n",
       "      <th></th>\n",
       "      <th>GeoLocation</th>\n",
       "      <th>Latitude</th>\n",
       "      <th>Longitude</th>\n",
       "    </tr>\n",
       "  </thead>\n",
       "  <tbody>\n",
       "    <tr>\n",
       "      <th>1</th>\n",
       "      <td>(29.5405590976, -81.2508206143)</td>\n",
       "      <td>29.540559</td>\n",
       "      <td>-81.250821</td>\n",
       "    </tr>\n",
       "    <tr>\n",
       "      <th>2</th>\n",
       "      <td>(38.3597235063, -121.96903046)</td>\n",
       "      <td>38.359724</td>\n",
       "      <td>-121.969030</td>\n",
       "    </tr>\n",
       "    <tr>\n",
       "      <th>3</th>\n",
       "      <td>(41.6911653908, -88.1011218035)</td>\n",
       "      <td>41.691165</td>\n",
       "      <td>-88.101122</td>\n",
       "    </tr>\n",
       "    <tr>\n",
       "      <th>4</th>\n",
       "      <td>(46.7854703427, -92.1342013763)</td>\n",
       "      <td>46.785470</td>\n",
       "      <td>-92.134201</td>\n",
       "    </tr>\n",
       "    <tr>\n",
       "      <th>5</th>\n",
       "      <td>(37.1942661484, -93.2914273656)</td>\n",
       "      <td>37.194266</td>\n",
       "      <td>-93.291427</td>\n",
       "    </tr>\n",
       "  </tbody>\n",
       "</table>\n",
       "</div>"
      ],
      "text/plain": [
       "                       GeoLocation   Latitude   Longitude\n",
       "1  (29.5405590976, -81.2508206143)  29.540559  -81.250821\n",
       "2   (38.3597235063, -121.96903046)  38.359724 -121.969030\n",
       "3  (41.6911653908, -88.1011218035)  41.691165  -88.101122\n",
       "4  (46.7854703427, -92.1342013763)  46.785470  -92.134201\n",
       "5  (37.1942661484, -93.2914273656)  37.194266  -93.291427"
      ]
     },
     "execution_count": 27,
     "metadata": {},
     "output_type": "execute_result"
    }
   ],
   "source": [
    "data = data.dropna(subset=['GeoLocation'])\n",
    "\n",
    "data[['Latitude', 'Longitude']] = data['GeoLocation'].str.extract(r'\\(([^,]+),\\s*([^)]+)\\)')\n",
    "\n",
    "data['Latitude'] = pd.to_numeric(data['Latitude'], errors='coerce')\n",
    "data['Longitude'] = pd.to_numeric(data['Longitude'], errors='coerce')\n",
    "\n",
    "data[['GeoLocation', 'Latitude', 'Longitude']].head()"
   ]
  },
  {
   "cell_type": "code",
   "execution_count": 28,
   "metadata": {},
   "outputs": [],
   "source": [
    "data = data.drop(['Data_Value_Footnote', 'Data_Value_Footnote_Symbol'], axis=1)\n",
    "\n",
    "data = data.dropna()"
   ]
  },
  {
   "cell_type": "code",
   "execution_count": 31,
   "metadata": {},
   "outputs": [],
   "source": [
    "#print(data) [27209 rows x 24 columns]"
   ]
  },
  {
   "cell_type": "code",
   "execution_count": 32,
   "metadata": {},
   "outputs": [],
   "source": [
    "clean_file_path = 'clean_500.csv'\n",
    "data.to_csv(clean_file_path, index=False)"
   ]
  }
 ],
 "metadata": {
  "kernelspec": {
   "display_name": "Python 3",
   "language": "python",
   "name": "python3"
  },
  "language_info": {
   "codemirror_mode": {
    "name": "ipython",
    "version": 3
   },
   "file_extension": ".py",
   "mimetype": "text/x-python",
   "name": "python",
   "nbconvert_exporter": "python",
   "pygments_lexer": "ipython3",
   "version": "3.10.13"
  },
  "orig_nbformat": 4
 },
 "nbformat": 4,
 "nbformat_minor": 2
}
