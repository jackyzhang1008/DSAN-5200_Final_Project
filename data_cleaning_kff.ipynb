{
 "cells": [
  {
   "cell_type": "code",
   "execution_count": 35,
   "metadata": {},
   "outputs": [],
   "source": [
    "import pandas as pd\n",
    "import numpy as np"
   ]
  },
  {
   "cell_type": "code",
   "execution_count": 36,
   "metadata": {},
   "outputs": [
    {
     "data": {
      "text/html": [
       "<div>\n",
       "<style scoped>\n",
       "    .dataframe tbody tr th:only-of-type {\n",
       "        vertical-align: middle;\n",
       "    }\n",
       "\n",
       "    .dataframe tbody tr th {\n",
       "        vertical-align: top;\n",
       "    }\n",
       "\n",
       "    .dataframe thead th {\n",
       "        text-align: right;\n",
       "    }\n",
       "</style>\n",
       "<table border=\"1\" class=\"dataframe\">\n",
       "  <thead>\n",
       "    <tr style=\"text-align: right;\">\n",
       "      <th></th>\n",
       "      <th>Location</th>\n",
       "      <th>Average Lowest-Cost Bronze Premium</th>\n",
       "      <th>Average Lowest-Cost Silver Premium</th>\n",
       "      <th>Average Benchmark Premium</th>\n",
       "      <th>Average Lowest-Cost Gold Premium</th>\n",
       "    </tr>\n",
       "  </thead>\n",
       "  <tbody>\n",
       "    <tr>\n",
       "      <th>0</th>\n",
       "      <td>United States</td>\n",
       "      <td>$364</td>\n",
       "      <td>$468</td>\n",
       "      <td>$477</td>\n",
       "      <td>$488</td>\n",
       "    </tr>\n",
       "    <tr>\n",
       "      <th>1</th>\n",
       "      <td>Alabama</td>\n",
       "      <td>$408</td>\n",
       "      <td>$563</td>\n",
       "      <td>$564</td>\n",
       "      <td>$637</td>\n",
       "    </tr>\n",
       "    <tr>\n",
       "      <th>2</th>\n",
       "      <td>Alaska</td>\n",
       "      <td>$533</td>\n",
       "      <td>$870</td>\n",
       "      <td>$889</td>\n",
       "      <td>$791</td>\n",
       "    </tr>\n",
       "    <tr>\n",
       "      <th>3</th>\n",
       "      <td>Arizona</td>\n",
       "      <td>$329</td>\n",
       "      <td>$373</td>\n",
       "      <td>$403</td>\n",
       "      <td>$475</td>\n",
       "    </tr>\n",
       "    <tr>\n",
       "      <th>4</th>\n",
       "      <td>Arkansas</td>\n",
       "      <td>$374</td>\n",
       "      <td>$424</td>\n",
       "      <td>$424</td>\n",
       "      <td>$509</td>\n",
       "    </tr>\n",
       "  </tbody>\n",
       "</table>\n",
       "</div>"
      ],
      "text/plain": [
       "        Location Average Lowest-Cost Bronze Premium  \\\n",
       "0  United States                               $364   \n",
       "1        Alabama                               $408   \n",
       "2         Alaska                               $533   \n",
       "3        Arizona                               $329   \n",
       "4       Arkansas                               $374   \n",
       "\n",
       "  Average Lowest-Cost Silver Premium Average Benchmark Premium  \\\n",
       "0                               $468                      $477   \n",
       "1                               $563                      $564   \n",
       "2                               $870                      $889   \n",
       "3                               $373                      $403   \n",
       "4                               $424                      $424   \n",
       "\n",
       "  Average Lowest-Cost Gold Premium  \n",
       "0                             $488  \n",
       "1                             $637  \n",
       "2                             $791  \n",
       "3                             $475  \n",
       "4                             $509  "
      ]
     },
     "execution_count": 36,
     "metadata": {},
     "output_type": "execute_result"
    }
   ],
   "source": [
    "#import dataset\n",
    "data = pd.read_csv(\"data/KFF.csv\")\n",
    "data.head()"
   ]
  },
  {
   "cell_type": "code",
   "execution_count": 37,
   "metadata": {},
   "outputs": [
    {
     "name": "stdout",
     "output_type": "stream",
     "text": [
      "Location                              object\n",
      "Average Lowest-Cost Bronze Premium    object\n",
      "Average Lowest-Cost Silver Premium    object\n",
      "Average Benchmark Premium             object\n",
      "Average Lowest-Cost Gold Premium      object\n",
      "dtype: object\n"
     ]
    }
   ],
   "source": [
    "#check data types of all columns\n",
    "print(data.dtypes)"
   ]
  },
  {
   "cell_type": "code",
   "execution_count": 38,
   "metadata": {},
   "outputs": [
    {
     "data": {
      "text/html": [
       "<div>\n",
       "<style scoped>\n",
       "    .dataframe tbody tr th:only-of-type {\n",
       "        vertical-align: middle;\n",
       "    }\n",
       "\n",
       "    .dataframe tbody tr th {\n",
       "        vertical-align: top;\n",
       "    }\n",
       "\n",
       "    .dataframe thead th {\n",
       "        text-align: right;\n",
       "    }\n",
       "</style>\n",
       "<table border=\"1\" class=\"dataframe\">\n",
       "  <thead>\n",
       "    <tr style=\"text-align: right;\">\n",
       "      <th></th>\n",
       "      <th>Location</th>\n",
       "      <th>Average Lowest-Cost Bronze Premium</th>\n",
       "      <th>Average Lowest-Cost Silver Premium</th>\n",
       "      <th>Average Benchmark Premium</th>\n",
       "      <th>Average Lowest-Cost Gold Premium</th>\n",
       "    </tr>\n",
       "  </thead>\n",
       "  <tbody>\n",
       "    <tr>\n",
       "      <th>0</th>\n",
       "      <td>United States</td>\n",
       "      <td>364.0</td>\n",
       "      <td>468.0</td>\n",
       "      <td>477.0</td>\n",
       "      <td>488.0</td>\n",
       "    </tr>\n",
       "    <tr>\n",
       "      <th>1</th>\n",
       "      <td>Alabama</td>\n",
       "      <td>408.0</td>\n",
       "      <td>563.0</td>\n",
       "      <td>564.0</td>\n",
       "      <td>637.0</td>\n",
       "    </tr>\n",
       "    <tr>\n",
       "      <th>2</th>\n",
       "      <td>Alaska</td>\n",
       "      <td>533.0</td>\n",
       "      <td>870.0</td>\n",
       "      <td>889.0</td>\n",
       "      <td>791.0</td>\n",
       "    </tr>\n",
       "    <tr>\n",
       "      <th>3</th>\n",
       "      <td>Arizona</td>\n",
       "      <td>329.0</td>\n",
       "      <td>373.0</td>\n",
       "      <td>403.0</td>\n",
       "      <td>475.0</td>\n",
       "    </tr>\n",
       "    <tr>\n",
       "      <th>4</th>\n",
       "      <td>Arkansas</td>\n",
       "      <td>374.0</td>\n",
       "      <td>424.0</td>\n",
       "      <td>424.0</td>\n",
       "      <td>509.0</td>\n",
       "    </tr>\n",
       "  </tbody>\n",
       "</table>\n",
       "</div>"
      ],
      "text/plain": [
       "        Location Average Lowest-Cost Bronze Premium  \\\n",
       "0  United States                              364.0   \n",
       "1        Alabama                              408.0   \n",
       "2         Alaska                              533.0   \n",
       "3        Arizona                              329.0   \n",
       "4       Arkansas                              374.0   \n",
       "\n",
       "  Average Lowest-Cost Silver Premium Average Benchmark Premium  \\\n",
       "0                              468.0                     477.0   \n",
       "1                              563.0                     564.0   \n",
       "2                              870.0                     889.0   \n",
       "3                              373.0                     403.0   \n",
       "4                              424.0                     424.0   \n",
       "\n",
       "  Average Lowest-Cost Gold Premium  \n",
       "0                            488.0  \n",
       "1                            637.0  \n",
       "2                            791.0  \n",
       "3                            475.0  \n",
       "4                            509.0  "
      ]
     },
     "execution_count": 38,
     "metadata": {},
     "output_type": "execute_result"
    }
   ],
   "source": [
    "#remove $ from cols\n",
    "for column in range(1,5):\n",
    "    data.iloc[:, column] = data.iloc[:, column].replace('[\\$,]', '', regex=True).astype(float)\n",
    "\n",
    "data.head()"
   ]
  },
  {
   "cell_type": "code",
   "execution_count": 40,
   "metadata": {},
   "outputs": [],
   "source": [
    "data.to_csv(\"data/cleaned_kff.csv\", index=False)"
   ]
  }
 ],
 "metadata": {
  "kernelspec": {
   "display_name": "dsan5200",
   "language": "python",
   "name": "python3"
  },
  "language_info": {
   "codemirror_mode": {
    "name": "ipython",
    "version": 3
   },
   "file_extension": ".py",
   "mimetype": "text/x-python",
   "name": "python",
   "nbconvert_exporter": "python",
   "pygments_lexer": "ipython3",
   "version": "3.11.7"
  }
 },
 "nbformat": 4,
 "nbformat_minor": 2
}
